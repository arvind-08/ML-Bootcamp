{
 "cells": [
  {
   "cell_type": "markdown",
   "id": "f9a94277",
   "metadata": {},
   "source": [
    "# Implementation of logistic regression:"
   ]
  },
  {
   "cell_type": "markdown",
   "id": "40ae7bee",
   "metadata": {},
   "source": [
    "IMPORT LIBRARIES"
   ]
  },
  {
   "cell_type": "code",
   "execution_count": 1,
   "id": "2b50cca3",
   "metadata": {},
   "outputs": [],
   "source": [
    "import numpy as np\n",
    "import pandas as pd\n",
    "import matplotlib.pyplot as plt "
   ]
  },
  {
   "cell_type": "markdown",
   "id": "89a9d26d",
   "metadata": {},
   "source": [
    "UPLOAD TRAIN AND TEST DATASET"
   ]
  },
  {
   "cell_type": "code",
   "execution_count": 2,
   "id": "80d00572",
   "metadata": {},
   "outputs": [],
   "source": [
    "test_df = pd.read_csv('C:/Users/adity/OneDrive/Desktop/WOC4.0/Logistic regression/emnist-letters-test.csv',header=None)\n",
    "train_df = pd.read_csv('C:/Users/adity/OneDrive/Desktop/WOC4.0/Logistic regression/emnist-letters-train.csv',header=None)"
   ]
  },
  {
   "cell_type": "code",
   "execution_count": 3,
   "id": "5cf965e9",
   "metadata": {},
   "outputs": [],
   "source": [
    "test  = test_df.to_numpy()      # convert train and test data into numpy array.\n",
    "train  = train_df.to_numpy()"
   ]
  },
  {
   "cell_type": "code",
   "execution_count": 5,
   "id": "88ede061",
   "metadata": {},
   "outputs": [],
   "source": [
    "X_train = train[:,1:]           # take features and actual output of train_data.\n",
    "y_train = train[:,0]"
   ]
  },
  {
   "cell_type": "code",
   "execution_count": 4,
   "id": "99834db6",
   "metadata": {},
   "outputs": [],
   "source": [
    "X_test = test[:,1:]            # take features and actual output of test_data.\n",
    "y_test = test[:,0]"
   ]
  },
  {
   "cell_type": "code",
   "execution_count": 6,
   "id": "bca47ad6",
   "metadata": {},
   "outputs": [
    {
     "name": "stdout",
     "output_type": "stream",
     "text": [
      "[23  7 16 ...  1 23 12]\n"
     ]
    }
   ],
   "source": [
    "print(y_train)                 # print actual output of train data."
   ]
  },
  {
   "cell_type": "code",
   "execution_count": 7,
   "id": "fa7c2da2",
   "metadata": {},
   "outputs": [],
   "source": [
    "m,n = X_train.shape  # m,n is the no. of rows and columns of training features data respectively."
   ]
  },
  {
   "cell_type": "markdown",
   "id": "e43302a6",
   "metadata": {},
   "source": [
    "DATA NORMALIZATION"
   ]
  },
  {
   "cell_type": "code",
   "execution_count": 8,
   "id": "901218cd",
   "metadata": {},
   "outputs": [],
   "source": [
    "# features scaling of training and testing features data by its mean and standard deviation along zero axis.\n",
    "X_test = (X_test-np.mean(X_test))/np.std(X_test)       \n",
    "X_train = (X_train-np.mean(X_train))/np.std(X_train)"
   ]
  },
  {
   "cell_type": "code",
   "execution_count": 9,
   "id": "0795dd84",
   "metadata": {},
   "outputs": [],
   "source": [
    "# Add a new ones column in training and testing features data.\n",
    "u_test = np.ones((X_test.shape[0],1))              \n",
    "u_train = np.ones((X_train.shape[0],1)) \n",
    "\n",
    "X_test = np.append(u_test,X_test, axis = 1)\n",
    "X_train = np.append(u_train,X_train, axis = 1)"
   ]
  },
  {
   "cell_type": "code",
   "execution_count": 10,
   "id": "034bad41",
   "metadata": {},
   "outputs": [],
   "source": [
    "\"\"\" convert training and testing output data into (no. of items, 26) zeros numpy array and replace by one at the index = \n",
    "(letter_position(output)-1).\"\"\"\n",
    "# create zeros numpy array.\n",
    "Y_train = np.zeros((m,26))\n",
    "Y_test = np.zeros((y_test.shape[0], 26))\n",
    "\n",
    "# loop for replacing by 1.\n",
    "for i in range(m):\n",
    "    Y_train[i][y_train[i]-1] = 1\n",
    "\n",
    "for i in range(y_test.shape[0], 26):\n",
    "    Y_test[i][y_test[i]-1] = 1"
   ]
  },
  {
   "cell_type": "markdown",
   "id": "3f5ac7d0",
   "metadata": {},
   "source": [
    "COMPUTE COST FUNCTION"
   ]
  },
  {
   "cell_type": "code",
   "execution_count": 11,
   "id": "725ce165",
   "metadata": {},
   "outputs": [],
   "source": [
    "def compute_cost(X, Y, theta):\n",
    "    \n",
    "    m = X.shape[0]                            # m is the total no. of items.\n",
    "    \n",
    "    z = np.dot(X, theta)                      # z is matrix multiplycation of X and theta.\n",
    "    y_pred = (1.0 / (1 + np.exp(-1*z)))       # y_pred by sigmoid function input as z.\n",
    "    \n",
    "    # this is the expression of cost function of logistics regression.\n",
    "    cost = - ( (np.sum(Y*np.log(y_pred))) + np.sum((1-Y)*np.log(1-y_pred)) )/m\n",
    "    \n",
    "    return cost                               # return value is cost."
   ]
  },
  {
   "cell_type": "markdown",
   "id": "c6c1cf09",
   "metadata": {},
   "source": [
    "COMPUTE GRADIENT DESCENT"
   ]
  },
  {
   "cell_type": "code",
   "execution_count": 12,
   "id": "9245924b",
   "metadata": {},
   "outputs": [],
   "source": [
    "def gradient_descent(X, Y, learning_rate, iteration):\n",
    "    \n",
    "    m = len(X)                                             # m is the total no. of items.\n",
    "    \n",
    "    # create theta as a numpy array of dimension (X.shape[1], 26) and assign zero.\n",
    "    theta = np.zeros((X.shape[1], 26))                \n",
    "    \n",
    "    # create cost_list as a list for storing cost value of each iteration.\n",
    "    cost_list = []\n",
    "    \n",
    "    # loop for predicting y_pred(hypothesis function), update theta, cost on updated theta and store cost into cost_list.\n",
    "    for i in range(iteration):\n",
    "        \n",
    "         z = np.dot(X, theta)\n",
    "    \n",
    "         y_pred = (1.0 / (1 + np.exp(-z)))\n",
    "    \n",
    "         d_theta = np.dot(X.T, y_pred - Y)/m\n",
    "    \n",
    "         theta = theta - learning_rate*d_theta\n",
    "        \n",
    "         cost = compute_cost(X, Y, theta)\n",
    "         \n",
    "         cost_list.append(cost)\n",
    "        \n",
    "        \n",
    "    return theta, cost_list                  # return value is theta and cost_list."
   ]
  },
  {
   "cell_type": "code",
   "execution_count": 13,
   "id": "115535fd",
   "metadata": {},
   "outputs": [],
   "source": [
    "iteration = 1000                    # no.of iterations.\n",
    "\n",
    "# Call the gradient_descent function for training data by input as X_train(features), Y_train(actual output), alpha, iteration.\n",
    "theta, cost_list = gradient_descent(X_train, Y_train, 0.05, 1000)"
   ]
  },
  {
   "cell_type": "markdown",
   "id": "efa329f7",
   "metadata": {},
   "source": [
    "CURVE COST VS ITERATION"
   ]
  },
  {
   "cell_type": "code",
   "execution_count": 14,
   "id": "052b1ad4",
   "metadata": {},
   "outputs": [
    {
     "data": {
      "image/png": "[encoded data removed]",
      "text/plain": [
       "<Figure size 432x288 with 1 Axes>"
      ]
     },
     "metadata": {
      "needs_background": "light"
     },
     "output_type": "display_data"
    }
   ],
   "source": [
    "rng = np.arange(iteration)\n",
    "plt.plot(rng, cost_list)\n",
    "plt.xlabel('X - iteration')\n",
    "plt.ylabel('y - cost_list ')\n",
    "plt.title('Logistics Regression')\n",
    "plt.show()"
   ]
  },
  {
   "cell_type": "code",
   "execution_count": 15,
   "id": "8d72cdfd",
   "metadata": {},
   "outputs": [
    {
     "name": "stdout",
     "output_type": "stream",
     "text": [
      "[1.8315063719625002, 1.8314507594016123, 1.8313952359998154, 1.8313398015152278, 1.831284455706879, 1.8312291983347009, 1.8311740291595247, 1.831118947943073, 1.8310639544479608, 1.831009048437689]\n"
     ]
    }
   ],
   "source": [
    "# Cost value for last 10 iterations.\n",
    "print(cost_list[-10:])"
   ]
  },
  {
   "cell_type": "code",
   "execution_count": 16,
   "id": "a5f98269",
   "metadata": {},
   "outputs": [
    {
     "data": {
      "text/plain": [
       "1.6368492551527296"
      ]
     },
     "execution_count": 16,
     "metadata": {},
     "output_type": "execute_result"
    }
   ],
   "source": [
    "# compute cost value for testing data on predicted theta and print.\n",
    "cost = compute_cost(X_test, Y_test, theta)\n",
    "cost"
   ]
  },
  {
   "cell_type": "code",
   "execution_count": 17,
   "id": "3a665361",
   "metadata": {},
   "outputs": [
    {
     "name": "stdout",
     "output_type": "stream",
     "text": [
      "[[ 5.]\n",
      " [24.]\n",
      " [ 1.]\n",
      " ...\n",
      " [19.]\n",
      " [10.]\n",
      " [ 1.]]\n",
      "[ 1  1  1 ... 19 19 19]\n"
     ]
    }
   ],
   "source": [
    "z = np.dot(X_test, theta)\n",
    "    \n",
    "y_pred = (1.0 / (1 + np.exp(-z)))\n",
    "\n",
    "hypothesis = np.zeros((y_test.size, 1))\n",
    "index = 0\n",
    "for i in np.argmax(y_pred,1):\n",
    "    hypothesis[index] = i+1\n",
    "    index+=1\n",
    "\n",
    "print(hypothesis)\n",
    "print(y_test)"
   ]
  },
  {
   "cell_type": "code",
   "execution_count": 18,
   "id": "f19a59bb",
   "metadata": {},
   "outputs": [],
   "source": [
    "# Accuracy calculation by how many predictions match with actual output to the total items.\n",
    "def accuracy(y, Y):\n",
    "    count = 0\n",
    "# loop for counting.\n",
    "    for i in range(y.size):\n",
    "        if(y[i]==Y[i]):\n",
    "            count+=1\n",
    "            \n",
    "    percent_acc = (count*100)/(y.size)\n",
    "    return percent_acc    "
   ]
  },
  {
   "cell_type": "code",
   "execution_count": 19,
   "id": "d9b9fa10",
   "metadata": {},
   "outputs": [
    {
     "data": {
      "text/plain": [
       "68.79729729729729"
      ]
     },
     "execution_count": 19,
     "metadata": {},
     "output_type": "execute_result"
    }
   ],
   "source": [
    "accuracy(y_test, hypothesis)    # check accuracy on testing data."
   ]
  },
  {
   "cell_type": "code",
   "execution_count": null,
   "id": "6f6501f1",
   "metadata": {},
   "outputs": [],
   "source": []
  }
 ],
 "metadata": {
  "kernelspec": {
   "display_name": "Python 3 (ipykernel)",
   "language": "python",
   "name": "python3"
  },
  "language_info": {
   "codemirror_mode": {
    "name": "ipython",
    "version": 3
   },
   "file_extension": ".py",
   "mimetype": "text/x-python",
   "name": "python",
   "nbconvert_exporter": "python",
   "pygments_lexer": "ipython3",
   "version": "3.10.2"
  }
 },
 "nbformat": 4,
 "nbformat_minor": 5
}
