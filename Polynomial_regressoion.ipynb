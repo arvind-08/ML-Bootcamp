{
 "cells": [
  {
   "cell_type": "markdown",
   "id": "25cbd8bb",
   "metadata": {},
   "source": [
    "# Implementation of Polynomial regression:"
   ]
  },
  {
   "cell_type": "markdown",
   "id": "9133337b",
   "metadata": {},
   "source": [
    "IMPORT LIBRARIES"
   ]
  },
  {
   "cell_type": "code",
   "execution_count": 1,
   "id": "302f976f",
   "metadata": {},
   "outputs": [],
   "source": [
    "import numpy as np\n",
    "import pandas as pd\n",
    "import matplotlib.pyplot as plt"
   ]
  },
  {
   "cell_type": "markdown",
   "id": "767197ea",
   "metadata": {},
   "source": [
    "UPLOAD TRAIN AND TEST DATASET AND PRINT"
   ]
  },
  {
   "cell_type": "code",
   "execution_count": 2,
   "id": "389b3ee1",
   "metadata": {},
   "outputs": [],
   "source": [
    "train_df=pd.read_csv('C:/Users/adity/OneDrive/Desktop/WOC4.0/Linear and polynomial regression/Polynomial_train.csv')\n",
    "test_df=pd.read_csv('C:/Users/adity/OneDrive/Desktop/WOC4.0/Linear and polynomial regression/Polynomial_test.csv')"
   ]
  },
  {
   "cell_type": "code",
   "execution_count": 3,
   "id": "854be647",
   "metadata": {},
   "outputs": [
    {
     "data": {
      "text/html": [
       "<div>\n",
       "<style scoped>\n",
       "    .dataframe tbody tr th:only-of-type {\n",
       "        vertical-align: middle;\n",
       "    }\n",
       "\n",
       "    .dataframe tbody tr th {\n",
       "        vertical-align: top;\n",
       "    }\n",
       "\n",
       "    .dataframe thead th {\n",
       "        text-align: right;\n",
       "    }\n",
       "</style>\n",
       "<table border=\"1\" class=\"dataframe\">\n",
       "  <thead>\n",
       "    <tr style=\"text-align: right;\">\n",
       "      <th></th>\n",
       "      <th>X</th>\n",
       "      <th>Y</th>\n",
       "      <th>Z</th>\n",
       "      <th>label</th>\n",
       "    </tr>\n",
       "  </thead>\n",
       "  <tbody>\n",
       "    <tr>\n",
       "      <th>0</th>\n",
       "      <td>0.643715</td>\n",
       "      <td>-9.866550</td>\n",
       "      <td>-5.836019</td>\n",
       "      <td>307.972927</td>\n",
       "    </tr>\n",
       "    <tr>\n",
       "      <th>1</th>\n",
       "      <td>-1.366446</td>\n",
       "      <td>-3.761945</td>\n",
       "      <td>-8.756162</td>\n",
       "      <td>136.398375</td>\n",
       "    </tr>\n",
       "    <tr>\n",
       "      <th>2</th>\n",
       "      <td>-4.090270</td>\n",
       "      <td>-1.836218</td>\n",
       "      <td>-1.846066</td>\n",
       "      <td>-310.724813</td>\n",
       "    </tr>\n",
       "    <tr>\n",
       "      <th>3</th>\n",
       "      <td>-8.730478</td>\n",
       "      <td>-1.923651</td>\n",
       "      <td>3.892972</td>\n",
       "      <td>1.755447</td>\n",
       "    </tr>\n",
       "    <tr>\n",
       "      <th>4</th>\n",
       "      <td>5.367169</td>\n",
       "      <td>0.358357</td>\n",
       "      <td>6.703989</td>\n",
       "      <td>-343.582590</td>\n",
       "    </tr>\n",
       "  </tbody>\n",
       "</table>\n",
       "</div>"
      ],
      "text/plain": [
       "          X         Y         Z       label\n",
       "0  0.643715 -9.866550 -5.836019  307.972927\n",
       "1 -1.366446 -3.761945 -8.756162  136.398375\n",
       "2 -4.090270 -1.836218 -1.846066 -310.724813\n",
       "3 -8.730478 -1.923651  3.892972    1.755447\n",
       "4  5.367169  0.358357  6.703989 -343.582590"
      ]
     },
     "execution_count": 3,
     "metadata": {},
     "output_type": "execute_result"
    }
   ],
   "source": [
    "train_df.head()"
   ]
  },
  {
   "cell_type": "code",
   "execution_count": 4,
   "id": "cbe50ace",
   "metadata": {},
   "outputs": [
    {
     "data": {
      "text/html": [
       "<div>\n",
       "<style scoped>\n",
       "    .dataframe tbody tr th:only-of-type {\n",
       "        vertical-align: middle;\n",
       "    }\n",
       "\n",
       "    .dataframe tbody tr th {\n",
       "        vertical-align: top;\n",
       "    }\n",
       "\n",
       "    .dataframe thead th {\n",
       "        text-align: right;\n",
       "    }\n",
       "</style>\n",
       "<table border=\"1\" class=\"dataframe\">\n",
       "  <thead>\n",
       "    <tr style=\"text-align: right;\">\n",
       "      <th></th>\n",
       "      <th>X</th>\n",
       "      <th>Y</th>\n",
       "      <th>Z</th>\n",
       "      <th>label</th>\n",
       "    </tr>\n",
       "  </thead>\n",
       "  <tbody>\n",
       "    <tr>\n",
       "      <th>0</th>\n",
       "      <td>0.643715</td>\n",
       "      <td>-9.866550</td>\n",
       "      <td>-5.836019</td>\n",
       "      <td>307.972927</td>\n",
       "    </tr>\n",
       "    <tr>\n",
       "      <th>1</th>\n",
       "      <td>-1.366446</td>\n",
       "      <td>-3.761945</td>\n",
       "      <td>-8.756162</td>\n",
       "      <td>136.398375</td>\n",
       "    </tr>\n",
       "    <tr>\n",
       "      <th>2</th>\n",
       "      <td>-4.090270</td>\n",
       "      <td>-1.836218</td>\n",
       "      <td>-1.846066</td>\n",
       "      <td>-310.724813</td>\n",
       "    </tr>\n",
       "    <tr>\n",
       "      <th>3</th>\n",
       "      <td>-8.730478</td>\n",
       "      <td>-1.923651</td>\n",
       "      <td>3.892972</td>\n",
       "      <td>1.755447</td>\n",
       "    </tr>\n",
       "    <tr>\n",
       "      <th>4</th>\n",
       "      <td>5.367169</td>\n",
       "      <td>0.358357</td>\n",
       "      <td>6.703989</td>\n",
       "      <td>-343.582590</td>\n",
       "    </tr>\n",
       "  </tbody>\n",
       "</table>\n",
       "</div>"
      ],
      "text/plain": [
       "          X         Y         Z       label\n",
       "0  0.643715 -9.866550 -5.836019  307.972927\n",
       "1 -1.366446 -3.761945 -8.756162  136.398375\n",
       "2 -4.090270 -1.836218 -1.846066 -310.724813\n",
       "3 -8.730478 -1.923651  3.892972    1.755447\n",
       "4  5.367169  0.358357  6.703989 -343.582590"
      ]
     },
     "execution_count": 4,
     "metadata": {},
     "output_type": "execute_result"
    }
   ],
   "source": [
    "train_df.head()"
   ]
  },
  {
   "cell_type": "code",
   "execution_count": 5,
   "id": "6045681b",
   "metadata": {},
   "outputs": [
    {
     "data": {
      "text/plain": [
       "(50000, 4)"
      ]
     },
     "execution_count": 5,
     "metadata": {},
     "output_type": "execute_result"
    }
   ],
   "source": [
    "train_df.shape          # print shape(no.of rows, no. of columns) of train dataframe."
   ]
  },
  {
   "cell_type": "code",
   "execution_count": 6,
   "id": "b4a5bc71",
   "metadata": {},
   "outputs": [
    {
     "data": {
      "text/plain": [
       "(10000, 4)"
      ]
     },
     "execution_count": 6,
     "metadata": {},
     "output_type": "execute_result"
    }
   ],
   "source": [
    "test_df.shape          # print shape(no.of rows, no. of columns) of test dataframe."
   ]
  },
  {
   "cell_type": "code",
   "execution_count": 7,
   "id": "c103aee1",
   "metadata": {},
   "outputs": [],
   "source": [
    "# take features from train and test dataframe respectively.\n",
    "features_train = train_df.iloc[:,:3]\n",
    "features_test = test_df.iloc[:,:3]"
   ]
  },
  {
   "cell_type": "code",
   "execution_count": 8,
   "id": "8254df83",
   "metadata": {},
   "outputs": [],
   "source": [
    "# take actual output from train and test data and convert into numpy array.\n",
    "Y_train = np.array(train_df.iloc[:, 3])\n",
    "Y_test = np.array(test_df.iloc[:, 3])"
   ]
  },
  {
   "cell_type": "code",
   "execution_count": 9,
   "id": "d52ad319",
   "metadata": {},
   "outputs": [],
   "source": [
    "# features scaling using mean and standard deviation of training features.\n",
    "u = features_train.mean()            \n",
    "si = features_train.std()\n",
    "train_df = (features_train - u)/si"
   ]
  },
  {
   "cell_type": "code",
   "execution_count": 10,
   "id": "3c0f8279",
   "metadata": {},
   "outputs": [],
   "source": [
    "# features scaling using mean and standard deviation of testing features.\n",
    "u1 = features_test.mean()\n",
    "si1 = features_test.std()\n",
    "test_df = (features_test - u1)/si1"
   ]
  },
  {
   "cell_type": "code",
   "execution_count": 11,
   "id": "442d8ee2",
   "metadata": {},
   "outputs": [],
   "source": [
    "# separte features of training data.\n",
    "X = features_train.loc[:,'X']\n",
    "Y = features_train.loc[:,'Y']\n",
    "Z = features_train.loc[:,'Z']"
   ]
  },
  {
   "cell_type": "code",
   "execution_count": 12,
   "id": "7749138b",
   "metadata": {},
   "outputs": [],
   "source": [
    "# separte features of testing data.\n",
    "X1 = features_test.loc[:,'X']\n",
    "Y1 = features_test.loc[:,'Y']\n",
    "Z1 = features_test.loc[:,'Z']"
   ]
  },
  {
   "cell_type": "code",
   "execution_count": 13,
   "id": "e2622406",
   "metadata": {},
   "outputs": [],
   "source": [
    "# create new different array using training features.\n",
    "P = np.square(X)\n",
    "Q = np.square(Y)\n",
    "R = np.square(Z)\n",
    "S = np.array(X*Y)\n",
    "T = np.array(Y*Z)\n",
    "U = np.array(Z*X)"
   ]
  },
  {
   "cell_type": "code",
   "execution_count": 14,
   "id": "38fb6102",
   "metadata": {},
   "outputs": [],
   "source": [
    "# create new different array using testing features.\n",
    "P1 = np.square(X1)\n",
    "Q1 = np.square(Y1)\n",
    "R1 = np.square(Z1)\n",
    "S1 = np.array(X1*Y1)\n",
    "T1 = np.array(Y1*Z1)\n",
    "U1 = np.array(Z1*X1)"
   ]
  },
  {
   "cell_type": "markdown",
   "id": "8f59db6a",
   "metadata": {},
   "source": [
    "ADD NEW FEATURES IN TRAINING AND TESTING FEATURES DATA."
   ]
  },
  {
   "cell_type": "code",
   "execution_count": 15,
   "id": "eae09d65",
   "metadata": {},
   "outputs": [],
   "source": [
    "# create features and features1 array.\n",
    "features = np.ones((50000,10)) \n",
    "features1 = np.ones((10000,10)) "
   ]
  },
  {
   "cell_type": "code",
   "execution_count": 16,
   "id": "e0678dfe",
   "metadata": {},
   "outputs": [
    {
     "data": {
      "text/plain": [
       "array([[1., 1., 1., ..., 1., 1., 1.],\n",
       "       [1., 1., 1., ..., 1., 1., 1.],\n",
       "       [1., 1., 1., ..., 1., 1., 1.],\n",
       "       ...,\n",
       "       [1., 1., 1., ..., 1., 1., 1.],\n",
       "       [1., 1., 1., ..., 1., 1., 1.],\n",
       "       [1., 1., 1., ..., 1., 1., 1.]])"
      ]
     },
     "execution_count": 16,
     "metadata": {},
     "output_type": "execute_result"
    }
   ],
   "source": [
    "features"
   ]
  },
  {
   "cell_type": "code",
   "execution_count": 17,
   "id": "2900c892",
   "metadata": {},
   "outputs": [],
   "source": [
    "features[:,0] = np.ones((50000,))  # add columns of ones.\n",
    "features[:,1] = X                  # add given training features X.\n",
    "features[:,2] = Y                  # add given training features Y.\n",
    "features[:,3] = Z                  # add given training features Z.\n",
    "features[:,4] = P                  # add given training features square of X.\n",
    "features[:,5] = Q                  # add given training features square of Y.\n",
    "features[:,6] = R                  # add given training features square of Z.\n",
    "features[:,7] = S                  # add given training features element multiplycation of X and Y.\n",
    "features[:,8] = T                  # add given training features element multiplycation of Y and Z.\n",
    "features[:,9] = U                  # add given training features element multiplycation of Z and X."
   ]
  },
  {
   "cell_type": "code",
   "execution_count": 18,
   "id": "f10e22a5",
   "metadata": {},
   "outputs": [],
   "source": [
    "features1[:,0] = np.ones((10000,)) # add columns of ones.\n",
    "features1[:,1] = X1                # add given testing features X.\n",
    "features1[:,2] = Y1                # add given testing features Y.\n",
    "features1[:,3] = Z1                # add given testing features Z.\n",
    "features1[:,4] = P1                # add given testing features square of X.\n",
    "features1[:,5] = Q1                # add given testing features square of Y.\n",
    "features1[:,6] = R1                # add given testing features square of Z.\n",
    "features1[:,7] = S1                # add given testing testing features element multiplycation of X and Y.\n",
    "features1[:,8] = T1                # add given testing features element multiplycation of Y and Z.\n",
    "features1[:,9] = U1                # add given testing features element multiplycation of Z and X."
   ]
  },
  {
   "cell_type": "code",
   "execution_count": 19,
   "id": "7a6d966c",
   "metadata": {},
   "outputs": [
    {
     "data": {
      "text/plain": [
       "array([[  1.        ,   0.64371517,  -9.86655011, ...,  -6.35124797,\n",
       "         57.58137788,  -3.75673422],\n",
       "       [  1.        ,  -1.36644585,  -3.76194541, ...,   5.14049469,\n",
       "         32.94020319,  11.96482113],\n",
       "       [  1.        ,  -4.09026967,  -1.83621751, ...,   7.51062479,\n",
       "          3.38977801,   7.55090619],\n",
       "       ...,\n",
       "       [  1.        ,   6.6167532 ,  -2.84728822, ..., -18.83980346,\n",
       "          1.4351472 ,  -3.33510838],\n",
       "       [  1.        ,   3.55819907,   4.50752592, ...,  16.03867453,\n",
       "        -21.74283426, -17.16359126],\n",
       "       [  1.        ,   0.62343079,   8.86323404, ...,   5.52561302,\n",
       "        -28.63746107,  -2.01432964]])"
      ]
     },
     "execution_count": 19,
     "metadata": {},
     "output_type": "execute_result"
    }
   ],
   "source": [
    "features               # print training features."
   ]
  },
  {
   "cell_type": "code",
   "execution_count": 20,
   "id": "43da6635",
   "metadata": {},
   "outputs": [
    {
     "data": {
      "text/plain": [
       "array([ 307.9729269,  136.3983754, -310.7248135, ...,  663.8736555,\n",
       "       -421.0040045, -699.7186817])"
      ]
     },
     "execution_count": 20,
     "metadata": {},
     "output_type": "execute_result"
    }
   ],
   "source": [
    "Y_train              # print actual output of training data."
   ]
  },
  {
   "cell_type": "markdown",
   "id": "43533d69",
   "metadata": {},
   "source": [
    "COMUPTE COST FUNCTION"
   ]
  },
  {
   "cell_type": "code",
   "execution_count": 21,
   "id": "77606106",
   "metadata": {},
   "outputs": [],
   "source": [
    "# Declare cost function.\n",
    "def compute_cost(X, Y, theta):\n",
    "    m = len(X)                   # m is the total no. of items.\n",
    "   \n",
    "    \n",
    "    y_pred = (X @ (theta.T))     # y_pred is matrix multiplycation of X and theta.\n",
    "    \n",
    "    cost = (1/2*m)*(np.sum(np.square(y_pred - Y)))         # this is the expression for the cost function.\n",
    "    \n",
    "    \n",
    "    return cost                   # return value is cost."
   ]
  },
  {
   "cell_type": "code",
   "execution_count": 22,
   "id": "344f44b0",
   "metadata": {},
   "outputs": [
    {
     "data": {
      "text/plain": [
       "1817651398031462.8"
      ]
     },
     "execution_count": 22,
     "metadata": {},
     "output_type": "execute_result"
    }
   ],
   "source": [
    "compute_cost(features, Y_train, np.zeros(features.shape[1],))          # initial cost value."
   ]
  },
  {
   "cell_type": "code",
   "execution_count": 23,
   "id": "bc13e403",
   "metadata": {},
   "outputs": [],
   "source": [
    "# Declare Gradient Descent function.\n",
    "def gradient_descent(X, Y, learning_rate, iteration):\n",
    "    m = Y.size                                    # m is the total no. of items.\n",
    "    theta = np.zeros(X.shape[1],)                 # create theta as a numpy array of dimension (X.shape[1], 1) and assign zero.\n",
    "    cost_list = []                                # create cost_list as a list for storing cost value of each iteration.\n",
    "    \n",
    "# loop for predicting y_pred(hypothesis function), update theta, cost on updated theta and store cost into cost_list.    \n",
    "    for i in range(iteration):\n",
    "        \n",
    "        y_pred = np.dot(X, theta)\n",
    "       \n",
    "        cost = compute_cost(X, Y, theta)\n",
    "    \n",
    "        d_theta = (1/m)*(np.dot(X.T, y_pred - Y))\n",
    "    \n",
    "        theta = theta - learning_rate*d_theta\n",
    "         \n",
    "        cost_list.append(cost)\n",
    "        \n",
    "        \n",
    "    return theta, cost_list                  # return value is theta and cost_list."
   ]
  },
  {
   "cell_type": "code",
   "execution_count": 24,
   "id": "d60d50fb",
   "metadata": {},
   "outputs": [],
   "source": [
    "iteration = 1000                            # no.of iterations.\n",
    "# Call the gradient_descent function for training data by input as X_train(features), Y_train(actual output), alpha, iteration.\n",
    "theta, cost_list = gradient_descent(features, Y_train, 0.00003, 1000)"
   ]
  },
  {
   "cell_type": "markdown",
   "id": "fb0fe2a2",
   "metadata": {},
   "source": [
    "PLOT THE CURVE COST VS ITERATION"
   ]
  },
  {
   "cell_type": "code",
   "execution_count": 25,
   "id": "157321f2",
   "metadata": {},
   "outputs": [
    {
     "data": {
      "image/png": "[encoded data removed]",
      "text/plain": [
       "<Figure size 432x288 with 1 Axes>"
      ]
     },
     "metadata": {
      "needs_background": "light"
     },
     "output_type": "display_data"
    }
   ],
   "source": [
    "rng = np.arange(iteration)\n",
    "plt.plot(rng, cost_list)\n",
    "plt.xlabel('X - iteration')\n",
    "plt.ylabel('y - cost_list ')\n",
    "plt.title('Polynomial Regression')\n",
    "plt.show()"
   ]
  },
  {
   "cell_type": "markdown",
   "id": "e22c9234",
   "metadata": {},
   "source": [
    "TESTED ON TESTING DATA"
   ]
  },
  {
   "cell_type": "code",
   "execution_count": 26,
   "id": "f878ffc9",
   "metadata": {},
   "outputs": [],
   "source": [
    "Y_test_pred = np.dot(features1, theta)    # predict output for testing data using its features and updated theta."
   ]
  },
  {
   "cell_type": "code",
   "execution_count": 27,
   "id": "9f8eb0cb",
   "metadata": {},
   "outputs": [
    {
     "data": {
      "text/plain": [
       "1.5954591786481884"
      ]
     },
     "execution_count": 27,
     "metadata": {},
     "output_type": "execute_result"
    }
   ],
   "source": [
    "RMSE = np.sqrt(np.mean((Y_test_pred - Y_test)**2))  \"\"\" calculate RMSE and print for predicted how concentrated the \n",
    "                                                                 data is around the polynomial of best fit.\"\"\"\n",
    "RMSE"
   ]
  },
  {
   "cell_type": "code",
   "execution_count": null,
   "id": "74bd3a9c",
   "metadata": {},
   "outputs": [],
   "source": []
  }
 ],
 "metadata": {
  "kernelspec": {
   "display_name": "Python 3 (ipykernel)",
   "language": "python",
   "name": "python3"
  },
  "language_info": {
   "codemirror_mode": {
    "name": "ipython",
    "version": 3
   },
   "file_extension": ".py",
   "mimetype": "text/x-python",
   "name": "python",
   "nbconvert_exporter": "python",
   "pygments_lexer": "ipython3",
   "version": "3.10.2"
  }
 },
 "nbformat": 4,
 "nbformat_minor": 5
}
